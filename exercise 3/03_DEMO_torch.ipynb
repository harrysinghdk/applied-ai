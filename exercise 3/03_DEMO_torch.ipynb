{
 "cells": [
  {
   "cell_type": "code",
   "execution_count": 5,
   "id": "85ed4a50-eb16-468a-befb-9dfa13c7d8aa",
   "metadata": {},
   "outputs": [],
   "source": [
    "import torch\n",
    "import numpy as np\n",
    "import matplotlib.pyplot as plt"
   ]
  },
  {
   "cell_type": "markdown",
   "id": "ac2a364f-9bd8-4cbc-a86c-c351da85e6e7",
   "metadata": {},
   "source": [
    "# Data Setup\n",
    "\n",
    "X: 100 random data points with 3 features each.\n",
    "\n",
    "y: 100 random binary labels (0 or 1) — the target values.\n",
    "\n",
    "📌 These are your fake training samples. Like saying:\n",
    "\"Here are 100 people, each described by 3 features. Now guess if they like cats or not.\""
   ]
  },
  {
   "cell_type": "code",
   "execution_count": 10,
   "id": "47734d53-7099-4852-9411-ec09c587d5e1",
   "metadata": {},
   "outputs": [],
   "source": [
    "N_DATAPOINT = 100\n",
    "N_FEATURES = 3\n",
    "N_LABELS = 1\n",
    "\n",
    "X = np.random.randn(N_DATAPOINT, N_FEATURES)\n",
    "y = np.random.randint(0, 2, size=(N_DATAPOINT, N_LABELS))\n",
    "#print(X)\n",
    "#print(y)"
   ]
  },
  {
   "cell_type": "markdown",
   "id": "a3641e37-9450-4a6a-b434-1f9d8e0fa80e",
   "metadata": {},
   "source": [
    "# Neural Network Model\n",
    "This builds a 2-layer feedforward neural network:\n",
    "\n",
    "**Layer\tWhat It Does**\n",
    "\n",
    "Linear(3 → 9)\tFirst layer: turns 3 input features into 9 neurons\n",
    "\n",
    "Sigmoid()\tAdds non-linearity (activation)\n",
    "\n",
    "Linear(9 → 1)\tSecond layer: reduces to 1 output value\n",
    "\n",
    "Sigmoid()\tSquashes output between 0 and 1 (good for binary classification)\n",
    "\n",
    "🧮 Why Sigmoid Twice?\n",
    "First sigmoid adds non-linearity between layers — lets the model learn complex patterns.\n",
    "\n",
    "Second sigmoid makes the final output a probability between 0 and 1, ideal for predicting class \"0\" or \"1\".\n",
    "\n",
    "📌 Summary\n",
    "You're building a simple neural network for binary classification.\n",
    "\n",
    "Data is random, just to test the model structure.\n",
    "\n",
    "The network:\n",
    "\n",
    "Takes 3 features,\n",
    "\n",
    "Has 1 hidden layer with 9 units,\n",
    "\n",
    "Outputs a probability for classifying 0 or 1.\n",
    "\n"
   ]
  },
  {
   "cell_type": "code",
   "execution_count": 19,
   "id": "d7576099-a947-499b-b3ee-8e3719d650d2",
   "metadata": {},
   "outputs": [
    {
     "data": {
      "text/plain": [
       "Sequential(\n",
       "  (0): Linear(in_features=3, out_features=9, bias=True)\n",
       "  (1): Sigmoid()\n",
       "  (2): Linear(in_features=9, out_features=1, bias=True)\n",
       "  (3): Sigmoid()\n",
       ")"
      ]
     },
     "execution_count": 19,
     "metadata": {},
     "output_type": "execute_result"
    }
   ],
   "source": [
    "\n",
    "#        l0_0\n",
    "# i_0    l0_1\n",
    "# i_1    l0_2\n",
    "# i_2    l0_3\n",
    "#        l0_4\n",
    "\n",
    "\n",
    "model = torch.nn.Sequential(\n",
    "    torch.nn.Linear(N_FEATURES, 9),\n",
    "    torch.nn.Sigmoid(),\n",
    "    torch.nn.Linear(9, N_LABELS),\n",
    "    torch.nn.Sigmoid()\n",
    ")\n",
    "model"
   ]
  },
  {
   "cell_type": "markdown",
   "id": "4ed32bff-53e2-4066-88bd-edaca1ddd2a0",
   "metadata": {},
   "source": [
    "## Next code cell\n",
    "* Loops through all the model’s parameters (weights and biases).\n",
    "* Filters to get only the first weight matrix (ignores biases).\n",
    "* Converts the weight tensor to a NumPy array, detaching it from the computation graph.\n",
    "* Displays the weights as a grayscale image using `matplotlib`.\n",
    "* Stops after the first weight matrix is visualized.\n"
   ]
  },
  {
   "cell_type": "code",
   "execution_count": 23,
   "id": "b55e97d5-bec4-4b8c-9bd9-5eb304bb83b6",
   "metadata": {},
   "outputs": [
    {
     "data": {
      "image/png": "[encoded data removed]",
      "text/plain": [
       "<Figure size 640x480 with 1 Axes>"
      ]
     },
     "metadata": {},
     "output_type": "display_data"
    }
   ],
   "source": [
    "for name, param in model.named_parameters():\n",
    "    if \"weight\" in name:\n",
    "        plt.imshow(param.detach().numpy(), cmap='grey')\n",
    "        break"
   ]
  },
  {
   "cell_type": "markdown",
   "id": "f697acdd-9838-4fa5-a86b-e9ad095d1820",
   "metadata": {},
   "source": [
    "Great question! Here's how to **understand this grayscale image of your model's weight matrix**:\n",
    "\n",
    "---\n",
    "\n",
    "## 🧠 What You're Seeing\n",
    "\n",
    "This is a **visual representation of the weights** in the **first layer** of your neural network:\n",
    "\n",
    "* You defined a layer: `Linear(3, 9)`\n",
    "  → This means: **3 input features → 9 output neurons**\n",
    "\n",
    "---\n",
    "\n",
    "## 🔍 What Each Part Means\n",
    "\n",
    "* **Each row** (0 to 8) = **one output neuron**\n",
    "* **Each column** (0 to 2) = **one input feature**\n",
    "\n",
    "So the value at (row `i`, column `j`) = the **weight connecting input `j` to neuron `i`**.\n",
    "\n",
    "---\n",
    "\n",
    "## 🎨 What the Colors Mean\n",
    "\n",
    "* **White/light shades** = large **positive weights**\n",
    "* **Black/dark shades** = large **negative weights**\n",
    "* **Gray** = values closer to **zero**\n",
    "\n",
    "These weights were **randomly initialized**, so this shows the \"starting point\" of your model before training.\n",
    "\n",
    "---\n",
    "\n",
    "## 📌 Summary\n",
    "\n",
    "* 9 neurons × 3 input features = 9×3 weight matrix.\n",
    "* This image **shows how strongly each input connects to each neuron**.\n",
    "* You'll see it change as the model **trains and learns patterns**.\n",
    "\n",
    "Let me know if you want to visualize how it evolves during training!\n"
   ]
  },
  {
   "cell_type": "code",
   "execution_count": null,
   "id": "f7e94fa2-65da-4d13-a596-8f4b8d625308",
   "metadata": {},
   "outputs": [],
   "source": []
  }
 ],
 "metadata": {
  "kernelspec": {
   "display_name": "Python 3 (ipykernel)",
   "language": "python",
   "name": "python3"
  },
  "language_info": {
   "codemirror_mode": {
    "name": "ipython",
    "version": 3
   },
   "file_extension": ".py",
   "mimetype": "text/x-python",
   "name": "python",
   "nbconvert_exporter": "python",
   "pygments_lexer": "ipython3",
   "version": "3.11.13"
  }
 },
 "nbformat": 4,
 "nbformat_minor": 5
}
