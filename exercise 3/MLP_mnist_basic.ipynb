{
 "cells": [
  {
   "cell_type": "markdown",
   "metadata": {
    "collapsed": true,
    "id": "CxXz4eo1XUAP",
    "jupyter": {
     "outputs_hidden": true
    },
    "pycharm": {
     "name": "#%% md\n"
    }
   },
   "source": [
    "## Neural Networks\n",
    "## Solve MNIST classification with basic sklearn functions\n",
    "\n",
    "The goal of this exercise is to familiarise you with working with datasets and transferring the MLP classification from the PRACTICE to one of the standard benchmark datasets: MNIST or fashion MNIST.\n",
    "\n",
    "Note: The original [MNIST dataset](http://yann.lecun.com/exdb/mnist/) contains 28x28px images of handwritten digits. Members of the AI/ML/Data Science community love this dataset and use it as a benchmark to validate their algorithms. In fact, MNIST is often the first dataset researchers try. *\"If it doesn't work on **MNIST**, it won't work at all\"*, they said. *\"Well, if it does work on MNIST, it may still fail on others.\"*\n",
    "A good alternative is using the [Fashion-MNIST dataset](https://github.com/zalandoresearch/fashion-mnist) for the following reasons:\n",
    "- MNIST is too easy. Convolutional nets can achieve 99.7% on MNIST (we will introduce this in the next lecture, thus, skip this for now). Classic machine learning algorithms can also achieve 97% easily.\n",
    "- MNIST is overused.\n",
    "- MNIST can not represent modern CV tasks.\n",
    "Thus for your experiments, make your own choice after briefly looking into both.\n",
    "\n",
    "For the hand-in, go through the following tasks and answer the following questions.\n",
    "\n",
    "Tasks:\n",
    "#### 1. Search online about characteristics and usage of the MNIST and/or FashionMNIST data set\n",
    "FashionMNIST is harder and more modern than MNIST but uses the same format, so you can easily swap them in code.\n",
    "From ChatGPT:\n",
    "\n",
    "**MNIST:**\n",
    "\n",
    "What: 70,000 grayscale images of handwritten digits (0–9)\n",
    "\n",
    "Size: 28×28 pixels\n",
    "\n",
    "Use: Benchmark for image classification, especially digit recognition\n",
    "\n",
    "Good for: Beginners in deep learning & CNNs\n",
    "\n",
    "**FashionMNIST:**\n",
    "\n",
    "What: 70,000 grayscale images of clothing items (e.g., shirts, shoes)\n",
    "\n",
    "Size: 28×28 pixels\n",
    "\n",
    "Use: More challenging alternative to MNIST\n",
    "\n",
    "Good for: Testing more realistic image classifiers\n",
    "\n",
    "\n",
    "#### 2. Build your own \"data loader\" to prepare training and test splits as well as input data and output labels.\n",
    "#### 3. Reproduce the steps in the PRACTICE of using the MLP function from sklearn to classify the data.\n",
    "#### 4. Understand and test what the respective loss function and optimisers are.\n",
    "## Optional\n",
    "5. Plot some training progress (e.g. plot the loss)\n",
    "6. Have a brief (!) experiment with different settings for the hyperparameters: batch_size, learning_rate, hidden_layer_sizes.\n",
    "\n",
    "Questions:\n",
    "1. What is the best accuracy that you found?\n",
    "2. What are good values of batch_size, learning_rate, hidden_layer_sizes?\n",
    "3. What optimiser options did you choose (and why)?\n",
    "4. What max_iter do you need to converge?\n",
    "5. What did you observe in the results for good and bad hyperparameters?"
   ]
  },
  {
   "cell_type": "code",
   "execution_count": 10,
   "metadata": {
    "id": "TZi_PVSRXUAS",
    "pycharm": {
     "name": "#%%\n"
    }
   },
   "outputs": [],
   "source": [
    "from IPython.display import display\n",
    "import numpy as np\n",
    "import pandas as pd\n",
    "import random\n",
    "import matplotlib.pyplot as plt\n",
    "from sklearn.linear_model import LogisticRegression\n",
    "from sklearn import datasets\n",
    "from sklearn import model_selection\n",
    "from sklearn import metrics\n",
    "from sklearn import neural_network\n",
    "import seaborn as sns"
   ]
  },
  {
   "cell_type": "markdown",
   "metadata": {
    "id": "rWkki5MPXUAT",
    "pycharm": {
     "name": "#%% md\n"
    }
   },
   "source": [
    "#### Load MNIST data\n",
    "You may consider just using np.loadtxt on https://python-course.eu/data/mnist/mnist_train.csv and https://python-course.eu/data/mnist/mnist_test.csv"
   ]
  },
  {
   "cell_type": "code",
   "execution_count": 11,
   "metadata": {
    "id": "lCkyUHOuXUAT",
    "pycharm": {
     "name": "#%%\n"
    }
   },
   "outputs": [],
   "source": [
    "data = np.loadtxt(\"https://python-course.eu/data/mnist/mnist_train.csv\", delimiter=',')"
   ]
  },
  {
   "cell_type": "code",
   "execution_count": 12,
   "metadata": {},
   "outputs": [
    {
     "name": "stdout",
     "output_type": "stream",
     "text": [
      "length:  60000\n"
     ]
    },
    {
     "data": {
      "text/plain": [
       "array([[5., 0., 0., ..., 0., 0., 0.],\n",
       "       [0., 0., 0., ..., 0., 0., 0.],\n",
       "       [4., 0., 0., ..., 0., 0., 0.],\n",
       "       ...,\n",
       "       [5., 0., 0., ..., 0., 0., 0.],\n",
       "       [6., 0., 0., ..., 0., 0., 0.],\n",
       "       [8., 0., 0., ..., 0., 0., 0.]], shape=(60000, 785))"
      ]
     },
     "execution_count": 12,
     "metadata": {},
     "output_type": "execute_result"
    }
   ],
   "source": [
    "print(\"length: \", len(data))\n",
    "data"
   ]
  },
  {
   "cell_type": "markdown",
   "metadata": {
    "id": "N7gxocW9XUAT",
    "pycharm": {
     "name": "#%% md\n"
    }
   },
   "source": [
    "##### Consider some visualisations to get a feeling for the data set!"
   ]
  },
  {
   "cell_type": "code",
   "execution_count": 13,
   "metadata": {
    "id": "r_UhP0-iXUAT",
    "pycharm": {
     "name": "#%%\n"
    }
   },
   "outputs": [
    {
     "name": "stdout",
     "output_type": "stream",
     "text": [
      "(60000, 785)\n"
     ]
    },
    {
     "data": {
      "text/plain": [
       "Text(0.5, 1.0, 'label: 5.0')"
      ]
     },
     "execution_count": 13,
     "metadata": {},
     "output_type": "execute_result"
    },
    {
     "data": {
      "image/png": "[encoded data removed]",
      "text/plain": [
       "<Figure size 640x480 with 1 Axes>"
      ]
     },
     "metadata": {},
     "output_type": "display_data"
    }
   ],
   "source": [
    "print(data.shape)\n",
    "X = data[:, 1:]  # all rows, all columns except firs\n",
    "y = data[:, 0]   # all rows, only first column\n",
    "plt.imshow(X[0].reshape(28, 28), cmap=\"gray\")\n",
    "plt.title(\"label: \" + str(y[0]))"
   ]
  },
  {
   "cell_type": "markdown",
   "metadata": {
    "id": "Lk177NFSXUAU",
    "pycharm": {
     "name": "#%% md\n"
    }
   },
   "source": [
    "#### Build the model"
   ]
  },
  {
   "cell_type": "code",
   "execution_count": 30,
   "metadata": {
    "id": "MlmoNR_hXUAU",
    "pycharm": {
     "name": "#%%\n"
    }
   },
   "outputs": [],
   "source": [
    "# data.shape = (6000, 785)\n",
    "# 6000 labels (y-hat, y)\n",
    "# 785 x 28x28 images (our features, X)\n",
    "\n",
    "X = data[:, 1:]  # features\n",
    "y = data[:, 0]   # label\n"
   ]
  },
  {
   "cell_type": "code",
   "execution_count": 31,
   "metadata": {},
   "outputs": [
    {
     "name": "stdout",
     "output_type": "stream",
     "text": [
      "[[0. 0. 0. ... 0. 0. 0.]\n",
      " [0. 0. 0. ... 0. 0. 0.]\n",
      " [0. 0. 0. ... 0. 0. 0.]\n",
      " ...\n",
      " [0. 0. 0. ... 0. 0. 0.]\n",
      " [0. 0. 0. ... 0. 0. 0.]\n",
      " [0. 0. 0. ... 0. 0. 0.]]\n",
      "Non-zero pixel values: 8994156\n"
     ]
    }
   ],
   "source": [
    "# let's normalize like earlier:\n",
    "# norm_data = sklearn.preprocessing.normalize(X) - don't do this.\n",
    "X = X / 255.0 # value will be between [0, 1]\n",
    "# keeps pixel structure and works better with MLPs using ReLU or sigmoid\n",
    "print(X)\n",
    "\n",
    "nonzero_count = np.count_nonzero(X)\n",
    "print(\"Non-zero pixel values:\", nonzero_count)"
   ]
  },
  {
   "cell_type": "code",
   "execution_count": 32,
   "metadata": {},
   "outputs": [],
   "source": [
    "from sklearn import model_selection"
   ]
  },
  {
   "cell_type": "code",
   "execution_count": 37,
   "metadata": {},
   "outputs": [],
   "source": [
    "random_seed = 13\n",
    "datasplit = 0.2"
   ]
  },
  {
   "cell_type": "code",
   "execution_count": 40,
   "metadata": {},
   "outputs": [],
   "source": [
    "# for the split we use the sklearn model_selection module\n",
    "X_train, X_test, y_train, y_test = model_selection.train_test_split(\n",
    "    X, y, test_size=datasplit,\n",
    "    random_state=random_seed)\n",
    "#display(iris_df_inp_train.head(n=3), iris_df_out_train.head(n=3))\n",
    "#display(iris_df_inp_test.head(n=3), iris_df_out_test.head(n=3))"
   ]
  },
  {
   "cell_type": "code",
   "execution_count": 47,
   "metadata": {},
   "outputs": [],
   "source": [
    "# parameters for the MLP shape\n",
    "# stolen from MLP_iris_basic\n",
    "hidden_layer_sizes = (128, 64)  # tuple of sizes of hidden layers\n",
    "activation ='relu'  # activation_fkt, {‘identity’, ‘logistic’, ‘tanh’, ‘relu’}\n",
    "\n",
    "#parameters for the learning\n",
    "optimiser = 'sgd'  # {‘lbfgs’, ‘sgd’, ‘adam’}\n",
    "learning_rate_init = 0.01  # learning_rate, try something smaller first!\n",
    "learning_rate = 'constant'  # learning_rate_type, {‘constant’, ‘invscaling’, ‘adaptive’}\n",
    "max_iter = 200  # epoches, number of training interations\n",
    "batch_size = 64  # number of training examples per epoch\n",
    "momentum = 0.95  # [0,1]\n",
    "\n",
    "clf_mlp = neural_network.MLPClassifier(\n",
    "    random_state=random_seed, solver=optimiser, activation=activation,\n",
    "    hidden_layer_sizes=hidden_layer_sizes, learning_rate_init=learning_rate_init,\n",
    "    max_iter=max_iter, learning_rate=learning_rate, momentum=momentum,\n",
    "    batch_size=batch_size, nesterovs_momentum=True, alpha=1e-05,\n",
    "    beta_1=0.9, beta_2=0.999, epsilon=1e-08, early_stopping=False,\n",
    "    n_iter_no_change=10, power_t=0.5, tol=0.0001, validation_fraction=0.1,\n",
    "    shuffle=True, verbose=True, warm_start=False)"
   ]
  },
  {
   "cell_type": "markdown",
   "metadata": {
    "id": "PYy6SSASXUAU",
    "pycharm": {
     "name": "#%% md\n"
    }
   },
   "source": [
    "#### Show prediction and visualisation"
   ]
  },
  {
   "cell_type": "code",
   "execution_count": 48,
   "metadata": {
    "id": "tUiwvZ2nXUAV",
    "pycharm": {
     "name": "#%%\n"
    }
   },
   "outputs": [
    {
     "name": "stdout",
     "output_type": "stream",
     "text": [
      "Iteration 1, loss = 0.33736306\n",
      "Iteration 2, loss = 0.13368340\n",
      "Iteration 3, loss = 0.09236476\n",
      "Iteration 4, loss = 0.06958780\n",
      "Iteration 5, loss = 0.05506609\n",
      "Iteration 6, loss = 0.04531745\n",
      "Iteration 7, loss = 0.03529772\n",
      "Iteration 8, loss = 0.02792988\n",
      "Iteration 9, loss = 0.02238002\n",
      "Iteration 10, loss = 0.01726820\n",
      "Iteration 11, loss = 0.01354585\n",
      "Iteration 12, loss = 0.01117201\n",
      "Iteration 13, loss = 0.00968464\n",
      "Iteration 14, loss = 0.00638811\n",
      "Iteration 15, loss = 0.00433991\n",
      "Iteration 16, loss = 0.00281100\n",
      "Iteration 17, loss = 0.00143998\n",
      "Iteration 18, loss = 0.00103737\n",
      "Iteration 19, loss = 0.00087988\n",
      "Iteration 20, loss = 0.00077045\n",
      "Iteration 21, loss = 0.00069139\n",
      "Iteration 22, loss = 0.00065017\n",
      "Iteration 23, loss = 0.00059054\n",
      "Iteration 24, loss = 0.00055548\n",
      "Iteration 25, loss = 0.00051826\n",
      "Iteration 26, loss = 0.00049175\n",
      "Iteration 27, loss = 0.00046511\n",
      "Iteration 28, loss = 0.00044227\n",
      "Iteration 29, loss = 0.00041999\n",
      "Iteration 30, loss = 0.00040467\n",
      "Iteration 31, loss = 0.00039122\n",
      "Training loss did not improve more than tol=0.000100 for 10 consecutive epochs. Stopping.\n",
      "Prediction accuracy: 0.97975\n"
     ]
    }
   ],
   "source": [
    "clf_mlp.fit(X_train, y_train)\n",
    "\n",
    "test_accuracy = clf_mlp.score(X_test, y_test)\n",
    "print(\"Prediction accuracy:\", test_accuracy)"
   ]
  },
  {
   "cell_type": "markdown",
   "metadata": {},
   "source": [
    "Why Each Change Helped:\n",
    "✅ hidden_layer_sizes = (128, 64)\n",
    "Gave the network enough neurons to learn complex features from 784 pixels\n",
    "\n",
    "MNIST needs more than just 8–4 to capture handwriting variation\n",
    "\n",
    "✅ batch_size = 64\n",
    "More stable gradients\n",
    "\n",
    "Less noise in updates\n",
    "\n",
    "Speeds up convergence compared to batch_size = 1\n",
    "\n",
    "✅ shuffle = True\n",
    "Prevents the model from learning weird patterns based on the order of training data"
   ]
  },
  {
   "cell_type": "code",
   "execution_count": 49,
   "metadata": {},
   "outputs": [
    {
     "data": {
      "image/png": "[encoded data removed]",
      "text/plain": [
       "<Figure size 640x480 with 1 Axes>"
      ]
     },
     "metadata": {},
     "output_type": "display_data"
    },
    {
     "data": {
      "image/png": "[encoded data removed]",
      "text/plain": [
       "<Figure size 640x480 with 1 Axes>"
      ]
     },
     "metadata": {},
     "output_type": "display_data"
    },
    {
     "data": {
      "image/png": "[encoded data removed]",
      "text/plain": [
       "<Figure size 640x480 with 1 Axes>"
      ]
     },
     "metadata": {},
     "output_type": "display_data"
    },
    {
     "data": {
      "image/png": "[encoded data removed]",
      "text/plain": [
       "<Figure size 640x480 with 1 Axes>"
      ]
     },
     "metadata": {},
     "output_type": "display_data"
    },
    {
     "data": {
      "image/png": "[encoded data removed]",
      "text/plain": [
       "<Figure size 640x480 with 1 Axes>"
      ]
     },
     "metadata": {},
     "output_type": "display_data"
    },
    {
     "data": {
      "image/png": "[encoded data removed]",
      "text/plain": [
       "<Figure size 640x480 with 1 Axes>"
      ]
     },
     "metadata": {},
     "output_type": "display_data"
    },
    {
     "data": {
      "image/png": "[encoded data removed]",
      "text/plain": [
       "<Figure size 640x480 with 1 Axes>"
      ]
     },
     "metadata": {},
     "output_type": "display_data"
    },
    {
     "data": {
      "image/png": "[encoded data removed]",
      "text/plain": [
       "<Figure size 640x480 with 1 Axes>"
      ]
     },
     "metadata": {},
     "output_type": "display_data"
    },
    {
     "data": {
      "image/png": "[encoded data removed]",
      "text/plain": [
       "<Figure size 640x480 with 1 Axes>"
      ]
     },
     "metadata": {},
     "output_type": "display_data"
    },
    {
     "data": {
      "image/png": "[encoded data removed]",
      "text/plain": [
       "<Figure size 640x480 with 1 Axes>"
      ]
     },
     "metadata": {},
     "output_type": "display_data"
    }
   ],
   "source": [
    "import matplotlib.pyplot as plt\n",
    "import numpy as np\n",
    "\n",
    "# Pick some test samples\n",
    "n_samples = 10\n",
    "indices = np.random.choice(len(X_test), n_samples, replace=False)\n",
    "sample_images = X_test[indices]\n",
    "sample_labels = y_test[indices]\n",
    "predictions = clf_mlp.predict(sample_images)\n",
    "\n",
    "# Plot them\n",
    "for i in range(n_samples):\n",
    "    plt.imshow(sample_images[i].reshape(28, 28), cmap=\"gray\")\n",
    "    plt.title(f\"Pred: {int(predictions[i])}, True: {int(sample_labels[i])}\")\n",
    "    plt.axis('off')\n",
    "    plt.show()\n"
   ]
  },
  {
   "cell_type": "code",
   "execution_count": null,
   "metadata": {},
   "outputs": [],
   "source": []
  }
 ],
 "metadata": {
  "colab": {
   "provenance": []
  },
  "kernelspec": {
   "display_name": "Python 3 (ipykernel)",
   "language": "python",
   "name": "python3"
  },
  "language_info": {
   "codemirror_mode": {
    "name": "ipython",
    "version": 3
   },
   "file_extension": ".py",
   "mimetype": "text/x-python",
   "name": "python",
   "nbconvert_exporter": "python",
   "pygments_lexer": "ipython3",
   "version": "3.11.13"
  }
 },
 "nbformat": 4,
 "nbformat_minor": 4
}
