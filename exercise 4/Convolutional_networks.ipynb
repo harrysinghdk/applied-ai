{
 "cells": [
  {
   "cell_type": "markdown",
   "metadata": {
    "id": "JI_Sad9fd_6J"
   },
   "source": [
    "# Convolutional Neural Networsk Project"
   ]
  },
  {
   "cell_type": "markdown",
   "metadata": {
    "id": "5g4f91NyeFcf"
   },
   "source": [
    "## Sub-project 1:\n",
    "\n",
    "## Solve Fashion_MNIST with LeNet architecture\n",
    "\n",
    "In this project you will implement the LeNet architecture of Convolutional Neural Networks. First you will download the Fashion-MNIST dataset. Split into train/validation/test datasets and train the network. Finally, plot the learning curves (train/validation loss and accuracy) and show the confusion matrix."
   ]
  },
  {
   "cell_type": "code",
   "execution_count": 1,
   "metadata": {},
   "outputs": [],
   "source": [
    "import torch\n",
    "from torch import nn\n",
    "import matplotlib.pyplot as plt\n",
    "import numpy as np\n",
    "import pandas as pd\n",
    "from torchvision import datasets\n",
    "from torchvision.transforms import ToTensor\n",
    "from torch.utils.data import DataLoader, random_split\n",
    "from sklearn.metrics import confusion_matrix, ConfusionMatrixDisplay\n"
   ]
  },
  {
   "cell_type": "markdown",
   "metadata": {
    "id": "sOfUQvRVfvmA"
   },
   "source": [
    "### 1. Download Fashion-MNIST"
   ]
  },
  {
   "cell_type": "markdown",
   "metadata": {
    "id": "LfvQ12mVf02d"
   },
   "source": [
    "### 2. Split the data into train / validation / test subsets. Make mini-batches, if necesssary."
   ]
  },
  {
   "cell_type": "code",
   "execution_count": 2,
   "metadata": {
    "id": "50Qusl-ud7BK"
   },
   "outputs": [],
   "source": [
    "data = datasets.FashionMNIST(\n",
    "    root = 'data/fashionmnist',\n",
    "    train = True,\n",
    "    transform = ToTensor(),\n",
    "    download = True,\n",
    ")\n",
    "test_data = datasets.FashionMNIST(\n",
    "    root = 'data/fashionmnist',\n",
    "    train = False,\n",
    "    transform = ToTensor()\n",
    ")"
   ]
  },
  {
   "cell_type": "code",
   "execution_count": 3,
   "metadata": {
    "id": "mY1rOmYOf7Ir"
   },
   "outputs": [
    {
     "data": {
      "image/png": "[encoded data removed]",
      "text/plain": [
       "<Figure size 1000x1000 with 9 Axes>"
      ]
     },
     "metadata": {},
     "output_type": "display_data"
    }
   ],
   "source": [
    "labels_map={\n",
    "    0: 'T-shirt',\n",
    "    1: 'Trouser',\n",
    "    2: 'Pullover',\n",
    "    3: 'Dress',\n",
    "    4: 'Coat',\n",
    "    5: 'Sandal',\n",
    "    6: 'Shirt',\n",
    "    7: 'Sneaker',\n",
    "    8: 'Bag',\n",
    "    9: 'Ankle Boot',\n",
    "}\n",
    "\n",
    "figure = plt.figure(figsize = (10,10))\n",
    "cols, rows = 3, 3\n",
    "\n",
    "for i in range (1, cols*rows + 1):\n",
    "    sample_idx = torch.randint(len(data), size = (1,)).item()\n",
    "    image, label = data[sample_idx]\n",
    "    figure.add_subplot(rows, cols, i)\n",
    "    plt.title(labels_map[label])\n",
    "    plt.axis('off')\n",
    "    plt.imshow(image.squeeze(), cmap='gray')\n",
    "plt.show()"
   ]
  },
  {
   "cell_type": "code",
   "execution_count": 4,
   "metadata": {},
   "outputs": [
    {
     "name": "stdout",
     "output_type": "stream",
     "text": [
      "Image shape: torch.Size([1, 28, 28])\n",
      "Label: 9\n"
     ]
    }
   ],
   "source": [
    "image, label = data[0]\n",
    "print(f\"Image shape: {image.shape}\")\n",
    "print(f\"Label: {label}\")"
   ]
  },
  {
   "cell_type": "markdown",
   "metadata": {
    "id": "_ZBdYurpf7zr"
   },
   "source": [
    "### 3. Build the LeNet model"
   ]
  },
  {
   "cell_type": "code",
   "execution_count": 5,
   "metadata": {
    "id": "ilN859L7kq04"
   },
   "outputs": [],
   "source": [
    "# model from slides (closely resemble the true LeNet model but not exactly.\n",
    "\n",
    "net = nn.Sequential(nn.Conv2d(1, 6, kernel_size=5, padding=2), nn.Sigmoid(),\n",
    "nn.AvgPool2d(kernel_size=2, stride=2),\n",
    "nn.Conv2d(6, 16, kernel_size=5), nn.Sigmoid(),\n",
    "nn.AvgPool2d(kernel_size=2, stride=2), nn.Flatten(),\n",
    "nn.Linear(16 * 5 * 5, 120), nn.Sigmoid(),\n",
    "nn.Linear(120, 84), nn.Sigmoid(), nn.Linear(84, 10))"
   ]
  },
  {
   "cell_type": "code",
   "execution_count": 6,
   "metadata": {},
   "outputs": [],
   "source": [
    "\n",
    "# Define relevant variables for the ML task\n",
    "batch_size = 100\n",
    "learning_rate = 0.01\n",
    "num_epochs = 10\n",
    "    \n",
    "# Device will determine whether to run the training on GPU or CPU.\n",
    "device = torch.device('cuda' if torch.cuda.is_available() else 'cpu')\n",
    "\n",
    "# prepare the loader\n",
    "\n",
    "# Split 80% train / 20% validation\n",
    "train_size = int(0.8 * len(data))\n",
    "val_size = len(data) - train_size\n",
    "train_set, val_set = random_split(data, [train_size, val_size])\n",
    "\n",
    "# Loaders\n",
    "train_loader = DataLoader(train_set, batch_size=batch_size, shuffle=True)\n",
    "val_loader = DataLoader(val_set, batch_size=batch_size, shuffle=False)\n",
    "test_loader = DataLoader(test_data, batch_size=batch_size, shuffle=False)\n",
    "\n",
    "loaders = {\n",
    "    'train': train_loader,\n",
    "    'validation': val_loader,\n",
    "    'test': test_loader\n",
    "}"
   ]
  },
  {
   "cell_type": "code",
   "execution_count": 7,
   "metadata": {},
   "outputs": [
    {
     "name": "stdout",
     "output_type": "stream",
     "text": [
      "torch.Size([6, 1, 5, 5])\n",
      "torch.Size([6])\n",
      "torch.Size([16, 6, 5, 5])\n",
      "torch.Size([16])\n",
      "torch.Size([120, 400])\n",
      "torch.Size([120])\n",
      "torch.Size([84, 120])\n",
      "torch.Size([84])\n",
      "torch.Size([10, 84])\n",
      "torch.Size([10])\n"
     ]
    }
   ],
   "source": [
    "from torch import optim\n",
    "\n",
    "loss_f = nn.CrossEntropyLoss()\n",
    "optimizer = optim.Adam(net.parameters(), lr=learning_rate)\n",
    "net.parameters()\n",
    "for parameter in net.parameters():\n",
    "    print(parameter.shape)\n"
   ]
  },
  {
   "cell_type": "code",
   "execution_count": 8,
   "metadata": {},
   "outputs": [
    {
     "data": {
      "text/plain": [
       "Sequential(\n",
       "  (0): Conv2d(1, 6, kernel_size=(5, 5), stride=(1, 1), padding=(2, 2))\n",
       "  (1): Sigmoid()\n",
       "  (2): AvgPool2d(kernel_size=2, stride=2, padding=0)\n",
       "  (3): Conv2d(6, 16, kernel_size=(5, 5), stride=(1, 1))\n",
       "  (4): Sigmoid()\n",
       "  (5): AvgPool2d(kernel_size=2, stride=2, padding=0)\n",
       "  (6): Flatten(start_dim=1, end_dim=-1)\n",
       "  (7): Linear(in_features=400, out_features=120, bias=True)\n",
       "  (8): Sigmoid()\n",
       "  (9): Linear(in_features=120, out_features=84, bias=True)\n",
       "  (10): Sigmoid()\n",
       "  (11): Linear(in_features=84, out_features=10, bias=True)\n",
       ")"
      ]
     },
     "execution_count": 8,
     "metadata": {},
     "output_type": "execute_result"
    }
   ],
   "source": [
    "net.to(device)"
   ]
  },
  {
   "cell_type": "markdown",
   "metadata": {
    "id": "7Hos3qlAkrCH"
   },
   "source": [
    "### 4. Train the model on the dataset"
   ]
  },
  {
   "cell_type": "code",
   "execution_count": 9,
   "metadata": {},
   "outputs": [],
   "source": [
    "def get_accuracy(model, data_loader):\n",
    "    model.eval()\n",
    "    correct = 0\n",
    "    total = 0\n",
    "    with torch.no_grad():\n",
    "        for images, labels in data_loader:\n",
    "            images, labels = images.to(device), labels.to(device)\n",
    "            outputs = model(images)\n",
    "            predicted = torch.argmax(outputs, dim=1)\n",
    "            correct += (predicted == labels).sum().item()\n",
    "            total += labels.size(0)\n",
    "    return correct / total\n"
   ]
  },
  {
   "cell_type": "code",
   "execution_count": 10,
   "metadata": {},
   "outputs": [
    {
     "name": "stdout",
     "output_type": "stream",
     "text": [
      "Epoch 1\n",
      "Training Loss: 2.3054798384507498\n",
      "Validation Loss: 2.303200407822927\n",
      "Accuracy: 0.10072916666666666\n",
      "-------------------\n",
      "Validation Loss Decreased(inf--->276.3840489387512) \t Saving The Model\n",
      "Epoch 2\n",
      "Training Loss: 2.303496254980564\n",
      "Validation Loss: 2.303571184476217\n",
      "Accuracy: 0.09933333333333333\n",
      "-------------------\n",
      "Epoch 3\n",
      "Training Loss: 2.30343878865242\n",
      "Validation Loss: 2.303353347380956\n",
      "Accuracy: 0.10072916666666666\n",
      "-------------------\n",
      "Epoch 4\n",
      "Training Loss: 2.161938440303008\n",
      "Validation Loss: 0.9901290441552798\n",
      "Accuracy: 0.5651666666666667\n",
      "-------------------\n",
      "Validation Loss Decreased(276.3840489387512--->118.81548529863358) \t Saving The Model\n",
      "Epoch 5\n",
      "Training Loss: 0.7289618489022056\n",
      "Validation Loss: 0.5890052596728007\n",
      "Accuracy: 0.770375\n",
      "-------------------\n",
      "Validation Loss Decreased(118.81548529863358--->70.68063116073608) \t Saving The Model\n",
      "Epoch 6\n",
      "Training Loss: 0.5587778207535545\n",
      "Validation Loss: 0.5258712343871593\n",
      "Accuracy: 0.7908333333333334\n",
      "-------------------\n",
      "Validation Loss Decreased(70.68063116073608--->63.10454812645912) \t Saving The Model\n",
      "Epoch 7\n",
      "Training Loss: 0.5062263902276755\n",
      "Validation Loss: 0.4822726900378863\n",
      "Accuracy: 0.8191041666666666\n",
      "-------------------\n",
      "Validation Loss Decreased(63.10454812645912--->57.872722804546356) \t Saving The Model\n",
      "Epoch 8\n",
      "Training Loss: 0.4701468233019114\n",
      "Validation Loss: 0.4674412101507187\n",
      "Accuracy: 0.8243125\n",
      "-------------------\n",
      "Validation Loss Decreased(57.872722804546356--->56.09294521808624) \t Saving The Model\n",
      "Epoch 9\n",
      "Training Loss: 0.4399513746922215\n",
      "Validation Loss: 0.44327594712376595\n",
      "Accuracy: 0.8280416666666667\n",
      "-------------------\n",
      "Validation Loss Decreased(56.09294521808624--->53.19311365485191) \t Saving The Model\n",
      "Epoch 10\n",
      "Training Loss: 0.4164684236049652\n",
      "Validation Loss: 0.4058852775643269\n",
      "Accuracy: 0.8496458333333333\n",
      "-------------------\n",
      "Validation Loss Decreased(53.19311365485191--->48.70623330771923) \t Saving The Model\n"
     ]
    }
   ],
   "source": [
    "def train(num_epochs, nn, loaders):\n",
    "  train_losses = [] # bruges til at gemme vores train loss\n",
    "  val_losses = []   # bruges til at gemme vores validation loss\n",
    "  accuracy_list = []\n",
    "    \n",
    "  min_valid_loss = np.inf\n",
    "\n",
    "  if torch.cuda.is_available():\n",
    "    nn.cuda()\n",
    "\n",
    "  for epoch in range(num_epochs):\n",
    "\n",
    "    # Train the model\n",
    "    epoch_train_loss = 0\n",
    "    # This line tells our NN that it's in the training mode\n",
    "    # This will become relevant when we introduce layers that behave\n",
    "    # differently in training and deployment/evaluation modes\n",
    "    nn.train()\n",
    "    for i, (images, labels) in enumerate(loaders['train']):\n",
    "      if torch.cuda.is_available():\n",
    "        images, labels = images.cuda(), labels.cuda()\n",
    "      output = nn(images)\n",
    "      loss = loss_f(output, labels)\n",
    "      epoch_train_loss += loss.item()\n",
    "\n",
    "      # clear gradients for this training step\n",
    "      optimizer.zero_grad()\n",
    "\n",
    "      # backpropagation, compute gradients\n",
    "      loss.backward()\n",
    "      # apply gradients\n",
    "      optimizer.step()\n",
    "\n",
    "    # Validate the model\n",
    "    epoch_val_loss = 0\n",
    "    nn.eval()\n",
    "    for images_v, labels_v in loaders['validation']:\n",
    "      if torch.cuda.is_available():\n",
    "        images_v, labels_v = images_v.cuda(), labels_v.cuda()\n",
    "      output = nn(images_v)\n",
    "      loss_v = loss_f(output, labels_v)\n",
    "      epoch_val_loss += loss_v.item()\n",
    "\n",
    "    training_loss = epoch_train_loss / len(loaders['train'])\n",
    "    validation_loss = epoch_val_loss / len(loaders['validation'])\n",
    "    accuracy_epoch = get_accuracy(nn, loaders['train'])\n",
    "    \n",
    "    train_losses.append(training_loss)\n",
    "    val_losses.append(validation_loss)\n",
    "    accuracy_list.append(accuracy_epoch)\n",
    "\n",
    "\n",
    "    print(f'Epoch {epoch+1}')\n",
    "    print(f'Training Loss: {training_loss}')\n",
    "    print(f'Validation Loss: {validation_loss}')\n",
    "    print(f'Accuracy: {accuracy_epoch}')\n",
    "    print('-------------------')\n",
    "    if min_valid_loss > epoch_val_loss:\n",
    "      print(f'Validation Loss Decreased({min_valid_loss}--->{epoch_val_loss}) \\t Saving The Model')\n",
    "      min_valid_loss = epoch_val_loss\n",
    "      # Saving State Dict\n",
    "      torch.save(nn.state_dict(), 'saved_model.pth')\n",
    "        \n",
    "  return train_losses, val_losses, accuracy_list #returner de tre lister jeg definerede i begyndelsen\n",
    "\n",
    "\n",
    "\n",
    "train_losses, val_losses, accuracy_list = train(num_epochs, net, loaders)"
   ]
  },
  {
   "cell_type": "markdown",
   "metadata": {
    "id": "UD273At6lEgQ"
   },
   "source": [
    "### 5. Plot the training curves (Loss and accuracy)"
   ]
  },
  {
   "cell_type": "code",
   "execution_count": 11,
   "metadata": {},
   "outputs": [],
   "source": [
    "def evaluate(model, test_loader):\n",
    "    model.to(device)           # Ensure model is on the right device\n",
    "    model.eval()               # Set to evaluation mode\n",
    "    correct = 0\n",
    "    total = 0\n",
    "\n",
    "    with torch.no_grad():     # Disable gradient calculation\n",
    "        for test_imgs, test_labels in test_loader:\n",
    "            test_imgs, test_labels = test_imgs.to(device), test_labels.to(device)\n",
    "            output = model(test_imgs)\n",
    "            predicted = torch.argmax(output, dim=1)\n",
    "            correct += (predicted == test_labels).sum().item()\n",
    "            total += test_labels.size(0)\n",
    "\n",
    "    accuracy = correct / total\n",
    "    print(\"Test accuracy: {:.3f}\".format(accuracy))"
   ]
  },
  {
   "cell_type": "code",
   "execution_count": 12,
   "metadata": {},
   "outputs": [
    {
     "data": {
      "image/png": "[encoded data removed]",
      "text/plain": [
       "<Figure size 800x500 with 2 Axes>"
      ]
     },
     "metadata": {},
     "output_type": "display_data"
    }
   ],
   "source": [
    "# chatgpt plot:\n",
    "epochs = range(1, len(train_losses) + 1)\n",
    "\n",
    "fig, ax1 = plt.subplots(figsize=(8, 5))\n",
    "\n",
    "# Plot losses\n",
    "ax1.plot(epochs, train_losses, label='Train Loss', color='blue')\n",
    "ax1.plot(epochs, val_losses, label='Val Loss', color='orange')\n",
    "ax1.set_xlabel('Epoch')\n",
    "ax1.set_ylabel('Loss')\n",
    "ax1.legend(loc='upper left')\n",
    "ax1.set_title('Training & Validation Loss + Accuracy')\n",
    "\n",
    "# Plot accuracy on a second y-axis\n",
    "ax2 = ax1.twinx()\n",
    "ax2.plot(epochs, accuracy_list, label='Train Accuracy', color='green')\n",
    "ax2.set_ylabel('Accuracy')\n",
    "ax2.legend(loc='upper right')\n",
    "\n",
    "plt.grid(True)\n",
    "plt.show()"
   ]
  },
  {
   "cell_type": "code",
   "execution_count": 13,
   "metadata": {},
   "outputs": [
    {
     "name": "stdout",
     "output_type": "stream",
     "text": [
      "Test accuracy: 0.837\n"
     ]
    }
   ],
   "source": [
    "test_acc = get_accuracy(net, loaders['test'])\n",
    "print(f\"Test accuracy: {test_acc:.3f}\")"
   ]
  },
  {
   "cell_type": "markdown",
   "metadata": {
    "id": "3vgNFn0clJXj"
   },
   "source": [
    "### 6. Show the confusion matrix and accuracy on the test dataset."
   ]
  },
  {
   "cell_type": "markdown",
   "metadata": {
    "id": "W_lkzGiUlNGb"
   },
   "source": [
    "### 7. Is LeNet better than the fully connected Neural Network trained in the project from lecture 3? Comment on the results"
   ]
  },
  {
   "cell_type": "markdown",
   "metadata": {
    "id": "oP9i42GllssB"
   },
   "source": [
    "Answer:"
   ]
  },
  {
   "cell_type": "markdown",
   "metadata": {
    "id": "SoEkp5vBlvMd"
   },
   "source": [
    "## Sub-project 2:\n",
    "\n",
    "## Use a pretrained model to solve\n",
    "\n",
    "In this project you will download the Intel Image Classification dataset (https://www.kaggle.com/puneet6060/intel-image-classification/download).\n",
    "Find a suitable pretrained Convolutional Neural Network and its weights. Fix the filters and retrain/finetune the top of the network. Show and comment on resuls.\n",
    "\n",
    "Alternativelly, you can browse Kaggle for some interesting datasets like: Dogs vs Cats, Alien vs Predator, Doom vs Animal Crossing, CelebA, etc. Just don't use something easy like MNIST, Fashion-MNIST, etc."
   ]
  },
  {
   "cell_type": "markdown",
   "metadata": {
    "id": "IpP46GT6uEjW"
   },
   "source": []
  },
  {
   "cell_type": "markdown",
   "metadata": {
    "id": "uASXDNLVpIHi"
   },
   "source": [
    "### 1. Download the data"
   ]
  },
  {
   "cell_type": "code",
   "execution_count": 14,
   "metadata": {
    "id": "VQS6d9DWpL7u"
   },
   "outputs": [],
   "source": [
    "# done, i have put them locally in data/... folder"
   ]
  },
  {
   "cell_type": "markdown",
   "metadata": {
    "id": "8EznZoYdpMTa"
   },
   "source": [
    "### 2. Preprocess the data.\n",
    "\n",
    "(This might include resizing, augmenting, etc.)\n",
    "\n",
    "\n"
   ]
  },
  {
   "cell_type": "markdown",
   "metadata": {
    "id": "Dj79LHvXpmdI"
   },
   "source": [
    "### 3. Split the data (train / test / validation) and make mini-batches."
   ]
  },
  {
   "cell_type": "code",
   "execution_count": 25,
   "metadata": {},
   "outputs": [],
   "source": [
    "from torchvision.models import resnet18, ResNet18_Weights\n",
    "from torchvision import transforms\n",
    "\n",
    "# Load pretrained weights and their transform\n",
    "weights = ResNet18_Weights.DEFAULT\n",
    "base_transform = weights.transforms()\n",
    "\n",
    "# Wrap with Grayscale conversion by nesting Compose\n",
    "my_transform = transforms.Compose([\n",
    "    transforms.Grayscale(num_output_channels=3),  # convert to 3-channel (RGB as resnet takes - my data has only grayscale 1 channel))\n",
    "    base_transform                                # apply ResNet18's full transform\n",
    "])\n"
   ]
  },
  {
   "cell_type": "code",
   "execution_count": 26,
   "metadata": {
    "id": "LPmX35GHqEfb"
   },
   "outputs": [],
   "source": [
    "train_path = \"data/seg_train/seg_train\"\n",
    "test_path = \"data/seg_test/seg_test\"\n",
    "\n",
    "full_train_dataset = datasets.ImageFolder(train_path, transform=my_transform)\n",
    "test_dataset = datasets.ImageFolder(test_path, transform=my_transform)"
   ]
  },
  {
   "cell_type": "code",
   "execution_count": 27,
   "metadata": {},
   "outputs": [
    {
     "name": "stdout",
     "output_type": "stream",
     "text": [
      "len(train_set) 11227\n",
      "len(val_set) 2807\n"
     ]
    }
   ],
   "source": [
    "from torch.utils.data import random_split\n",
    "\n",
    "train_size = int(0.8 * len(full_train_dataset))\n",
    "val_size = len(full_train_dataset) - train_size\n",
    "\n",
    "train_set, val_set = random_split(full_train_dataset, [train_size, val_size])\n",
    "print('len(train_set)', len(train_set))\n",
    "print('len(val_set)', len(val_set))"
   ]
  },
  {
   "cell_type": "code",
   "execution_count": 28,
   "metadata": {},
   "outputs": [
    {
     "name": "stdout",
     "output_type": "stream",
     "text": [
      "torch.Size([3, 224, 224])\n"
     ]
    }
   ],
   "source": [
    "img, label = full_train_dataset[0]\n",
    "print(img.shape) "
   ]
  },
  {
   "cell_type": "code",
   "execution_count": 53,
   "metadata": {},
   "outputs": [],
   "source": [
    "# Use the correctly transformed datasets\n",
    "train_set, val_set = random_split(full_train_dataset, [train_size, val_size])\n",
    "train_loader = DataLoader(train_set, batch_size=16, shuffle=True)\n",
    "val_loader = DataLoader(val_set, batch_size=16, shuffle=False)\n",
    "test_loader = DataLoader(test_dataset, batch_size=16, shuffle=False)\n",
    "\n",
    "resnet_loaders = {\n",
    "    'train': train_loader,\n",
    "    'validation': val_loader,\n",
    "    'test': test_loader\n",
    "}\n"
   ]
  },
  {
   "cell_type": "code",
   "execution_count": 54,
   "metadata": {},
   "outputs": [
    {
     "name": "stdout",
     "output_type": "stream",
     "text": [
      "['forest', 'buildings', 'glacier', 'street', 'mountain', 'sea']\n"
     ]
    }
   ],
   "source": [
    "import os\n",
    "print(os.listdir(train_path))\n"
   ]
  },
  {
   "cell_type": "markdown",
   "metadata": {
    "id": "XHNAiFSjqGS9"
   },
   "source": [
    "### 4. Download the pretrained architecture and weights.\n",
    "\n",
    "This part might include some research and understanding of architecures and the type of data they were trained on."
   ]
  },
  {
   "cell_type": "code",
   "execution_count": 55,
   "metadata": {
    "id": "Mm2h48w2qX2f"
   },
   "outputs": [
    {
     "name": "stdout",
     "output_type": "stream",
     "text": [
      "Output layer: Linear(in_features=512, out_features=1000, bias=True)\n",
      "ImageClassification(\n",
      "    crop_size=[224]\n",
      "    resize_size=[256]\n",
      "    mean=[0.485, 0.456, 0.406]\n",
      "    std=[0.229, 0.224, 0.225]\n",
      "    interpolation=InterpolationMode.BILINEAR\n",
      ")\n"
     ]
    }
   ],
   "source": [
    "from torchvision import models\n",
    "\n",
    "pretrained_resnet_model = models.resnet18(pretrained=True)\n",
    "#print(model)\n",
    "\n",
    "# What type of data was this trained on?\n",
    "print(f\"Output layer: {pretrained_resnet_model.fc}\")\n",
    "\n",
    "# What input size and normalization does it expect? → 224x224, ImageNet mean/std\n",
    "\n",
    "weights = ResNet18_Weights.DEFAULT\n",
    "preprocess = weights.transforms()\n",
    "\n",
    "print(preprocess)"
   ]
  },
  {
   "cell_type": "markdown",
   "metadata": {
    "id": "da8sXeYBqPS-"
   },
   "source": [
    "### 5. Build the larger model that includes the pre-trained part and prepare it for training.\n",
    "\n",
    "* Show the model summary so you are sure which components are included and how many (un)trainable parameters you have"
   ]
  },
  {
   "cell_type": "code",
   "execution_count": 56,
   "metadata": {},
   "outputs": [
    {
     "name": "stdout",
     "output_type": "stream",
     "text": [
      "num_classes (len): 6\n"
     ]
    }
   ],
   "source": [
    "# Freeze all pretrained layers\n",
    "for param in pretrained_resnet_model.parameters():\n",
    "    param.requires_grad = False\n",
    "\n",
    "num_classes = len(full_train_dataset.classes)\n",
    "print('num_classes (len):', num_classes)\n",
    "# Now only new layers I add will be trained.\n",
    "# my output earlier\n",
    "# Class names: ['buildings', 'forest', 'glacier', 'mountain', 'sea', 'street']\n",
    "# Num classes: 6\n",
    "pretrained_resnet_model.fc = nn.Linear(512, num_classes) # num_classes is 6, so this means we want to predict either one of the 6\n",
    "# normally resnet is 1000 because it contains 1000 different objects / classifications"
   ]
  },
  {
   "cell_type": "markdown",
   "metadata": {
    "id": "8roaTOSOqYMy"
   },
   "source": [
    "### 6. Train the trainable part of the model"
   ]
  },
  {
   "cell_type": "code",
   "execution_count": 57,
   "metadata": {
    "id": "a0Qg82iQq1Vb"
   },
   "outputs": [],
   "source": [
    "def get_accuracy_macbook(model, loader, device):\n",
    "    correct = 0\n",
    "    total = 0\n",
    "    model.eval()\n",
    "    with torch.no_grad():\n",
    "        for images, labels in loader:\n",
    "            images, labels = images.to(device), labels.to(device)\n",
    "            outputs = model(images)\n",
    "            _, preds = torch.max(outputs, 1)\n",
    "            correct += (preds == labels).sum().item()\n",
    "            total += labels.size(0)\n",
    "    return 100 * correct / total\n"
   ]
  },
  {
   "cell_type": "code",
   "execution_count": 58,
   "metadata": {},
   "outputs": [
    {
     "name": "stdout",
     "output_type": "stream",
     "text": [
      "torch.Size([64, 3, 7, 7])\n",
      "torch.Size([64])\n",
      "torch.Size([64])\n",
      "torch.Size([64, 64, 3, 3])\n",
      "torch.Size([64])\n",
      "torch.Size([64])\n",
      "torch.Size([64, 64, 3, 3])\n",
      "torch.Size([64])\n",
      "torch.Size([64])\n",
      "torch.Size([64, 64, 3, 3])\n",
      "torch.Size([64])\n",
      "torch.Size([64])\n",
      "torch.Size([64, 64, 3, 3])\n",
      "torch.Size([64])\n",
      "torch.Size([64])\n",
      "torch.Size([128, 64, 3, 3])\n",
      "torch.Size([128])\n",
      "torch.Size([128])\n",
      "torch.Size([128, 128, 3, 3])\n",
      "torch.Size([128])\n",
      "torch.Size([128])\n",
      "torch.Size([128, 64, 1, 1])\n",
      "torch.Size([128])\n",
      "torch.Size([128])\n",
      "torch.Size([128, 128, 3, 3])\n",
      "torch.Size([128])\n",
      "torch.Size([128])\n",
      "torch.Size([128, 128, 3, 3])\n",
      "torch.Size([128])\n",
      "torch.Size([128])\n",
      "torch.Size([256, 128, 3, 3])\n",
      "torch.Size([256])\n",
      "torch.Size([256])\n",
      "torch.Size([256, 256, 3, 3])\n",
      "torch.Size([256])\n",
      "torch.Size([256])\n",
      "torch.Size([256, 128, 1, 1])\n",
      "torch.Size([256])\n",
      "torch.Size([256])\n",
      "torch.Size([256, 256, 3, 3])\n",
      "torch.Size([256])\n",
      "torch.Size([256])\n",
      "torch.Size([256, 256, 3, 3])\n",
      "torch.Size([256])\n",
      "torch.Size([256])\n",
      "torch.Size([512, 256, 3, 3])\n",
      "torch.Size([512])\n",
      "torch.Size([512])\n",
      "torch.Size([512, 512, 3, 3])\n",
      "torch.Size([512])\n",
      "torch.Size([512])\n",
      "torch.Size([512, 256, 1, 1])\n",
      "torch.Size([512])\n",
      "torch.Size([512])\n",
      "torch.Size([512, 512, 3, 3])\n",
      "torch.Size([512])\n",
      "torch.Size([512])\n",
      "torch.Size([512, 512, 3, 3])\n",
      "torch.Size([512])\n",
      "torch.Size([512])\n",
      "torch.Size([6, 512])\n",
      "torch.Size([6])\n"
     ]
    }
   ],
   "source": [
    "from torch import optim\n",
    "\n",
    "loss_f = nn.CrossEntropyLoss()\n",
    "optimizer = optim.Adam(pretrained_resnet_model.parameters(), lr=0.001)\n",
    "net.parameters()\n",
    "for parameter in pretrained_resnet_model.parameters():\n",
    "    print(parameter.shape)"
   ]
  },
  {
   "cell_type": "code",
   "execution_count": 60,
   "metadata": {
    "id": "jy3xFNKCqv7Z"
   },
   "outputs": [],
   "source": [
    "def train_macbook(num_epochs, model, loaders):\n",
    "    import torch\n",
    "    import numpy as np\n",
    "\n",
    "    train_losses = []\n",
    "    val_losses = []\n",
    "    accuracy_list = []\n",
    "\n",
    "    min_valid_loss = np.inf\n",
    "\n",
    "    # Use MPS if available (for Apple Silicon)\n",
    "    device = torch.device(\"mps\" if torch.backends.mps.is_available()\n",
    "                          else \"cuda\" if torch.cuda.is_available()\n",
    "                          else \"cpu\")\n",
    "    print(\"Using device:\", device)\n",
    "\n",
    "    model = model.to(device)\n",
    "\n",
    "    for epoch in range(num_epochs):\n",
    "        model.train()\n",
    "        epoch_train_loss = 0\n",
    "\n",
    "        for images, labels in loaders['train']:\n",
    "            images, labels = images.to(device), labels.to(device)\n",
    "\n",
    "            optimizer.zero_grad()\n",
    "            output = model(images)\n",
    "            loss = loss_f(output, labels)\n",
    "            loss.backward()\n",
    "            optimizer.step()\n",
    "\n",
    "            epoch_train_loss += loss.item()\n",
    "\n",
    "        # Validation\n",
    "        model.eval()\n",
    "        epoch_val_loss = 0\n",
    "        with torch.no_grad():\n",
    "            for images_v, labels_v in loaders['validation']:\n",
    "                images_v, labels_v = images_v.to(device), labels_v.to(device)\n",
    "                output = model(images_v)\n",
    "                loss_v = loss_f(output, labels_v)\n",
    "                epoch_val_loss += loss_v.item()\n",
    "\n",
    "        training_loss = epoch_train_loss / len(loaders['train'])\n",
    "        validation_loss = epoch_val_loss / len(loaders['validation'])\n",
    "        accuracy_epoch = get_accuracy_macbook(model, loaders['train'], device)\n",
    "\n",
    "        train_losses.append(training_loss)\n",
    "        val_losses.append(validation_loss)\n",
    "        accuracy_list.append(accuracy_epoch)\n",
    "\n",
    "        print(f'Epoch {epoch+1}')\n",
    "        print(f'Training Loss: {training_loss:.4f}')\n",
    "        print(f'Validation Loss: {validation_loss:.4f}')\n",
    "        print(f'Accuracy: {accuracy_epoch:.2f}%')\n",
    "        print('-------------------')\n",
    "\n",
    "        if min_valid_loss > epoch_val_loss:\n",
    "            print(f'Validation Loss Decreased({min_valid_loss:.4f} → {epoch_val_loss:.4f}) — Saving model')\n",
    "            min_valid_loss = epoch_val_loss\n",
    "            torch.save(model.state_dict(), 'saved_model.pth')\n",
    "\n",
    "    return train_losses, val_losses, accuracy_list\n"
   ]
  },
  {
   "cell_type": "code",
   "execution_count": 61,
   "metadata": {},
   "outputs": [
    {
     "name": "stdout",
     "output_type": "stream",
     "text": [
      "torch.Size([16, 3, 224, 224])\n"
     ]
    }
   ],
   "source": [
    "images, labels = next(iter(resnet_loaders['train']))\n",
    "print(images.shape)"
   ]
  },
  {
   "cell_type": "code",
   "execution_count": 62,
   "metadata": {},
   "outputs": [
    {
     "name": "stdout",
     "output_type": "stream",
     "text": [
      "Using device: mps\n",
      "Epoch 1\n",
      "Training Loss: 0.6052\n",
      "Validation Loss: 0.3569\n",
      "Accuracy: 87.25%\n",
      "-------------------\n",
      "Validation Loss Decreased(inf → 62.8160) — Saving model\n",
      "Epoch 2\n",
      "Training Loss: 0.4234\n",
      "Validation Loss: 0.3399\n",
      "Accuracy: 88.48%\n",
      "-------------------\n",
      "Validation Loss Decreased(62.8160 → 59.8144) — Saving model\n",
      "Epoch 3\n",
      "Training Loss: 0.4058\n",
      "Validation Loss: 0.3617\n",
      "Accuracy: 87.66%\n",
      "-------------------\n",
      "Epoch 4\n",
      "Training Loss: 0.3799\n",
      "Validation Loss: 0.3397\n",
      "Accuracy: 88.71%\n",
      "-------------------\n",
      "Validation Loss Decreased(59.8144 → 59.7933) — Saving model\n",
      "Epoch 5\n",
      "Training Loss: 0.3760\n",
      "Validation Loss: 0.3293\n",
      "Accuracy: 89.38%\n",
      "-------------------\n",
      "Validation Loss Decreased(59.7933 → 57.9588) — Saving model\n",
      "Epoch 6\n",
      "Training Loss: 0.3740\n",
      "Validation Loss: 0.3142\n",
      "Accuracy: 90.11%\n",
      "-------------------\n",
      "Validation Loss Decreased(57.9588 → 55.3056) — Saving model\n",
      "Epoch 7\n",
      "Training Loss: 0.3654\n",
      "Validation Loss: 0.3145\n",
      "Accuracy: 90.12%\n",
      "-------------------\n",
      "Epoch 8\n",
      "Training Loss: 0.3643\n",
      "Validation Loss: 0.3134\n",
      "Accuracy: 90.56%\n",
      "-------------------\n",
      "Validation Loss Decreased(55.3056 → 55.1543) — Saving model\n",
      "Epoch 9\n",
      "Training Loss: 0.3627\n",
      "Validation Loss: 0.3248\n",
      "Accuracy: 90.26%\n",
      "-------------------\n",
      "Epoch 10\n",
      "Training Loss: 0.3570\n",
      "Validation Loss: 0.3228\n",
      "Accuracy: 90.38%\n",
      "-------------------\n"
     ]
    }
   ],
   "source": [
    "train_losses, val_losses, accuracy_list = train_macbook(10, pretrained_resnet_model, resnet_loaders)"
   ]
  },
  {
   "cell_type": "markdown",
   "metadata": {
    "id": "PA5Gp6g2qwGL"
   },
   "source": [
    "### 7. Show the training plots and confusion matrix"
   ]
  },
  {
   "cell_type": "markdown",
   "metadata": {
    "id": "_QBCyt67q1r1"
   },
   "source": [
    "### Finetune the model and show the plots, test data confusion matrix and accuracy."
   ]
  },
  {
   "cell_type": "code",
   "execution_count": 63,
   "metadata": {
    "id": "_VrwGiObrzBJ"
   },
   "outputs": [
    {
     "data": {
      "image/png": "[encoded data removed]",
      "text/plain": [
       "<Figure size 1000x400 with 2 Axes>"
      ]
     },
     "metadata": {},
     "output_type": "display_data"
    }
   ],
   "source": [
    "import matplotlib.pyplot as plt\n",
    "\n",
    "# Plot Loss\n",
    "plt.figure(figsize=(10, 4))\n",
    "plt.subplot(1, 2, 1)\n",
    "plt.plot(train_losses, label='Train Loss')\n",
    "plt.plot(val_losses, label='Validation Loss')\n",
    "plt.xlabel('Epoch')\n",
    "plt.ylabel('Loss')\n",
    "plt.title('Loss Over Epochs')\n",
    "plt.legend()\n",
    "\n",
    "# Plot Accuracy\n",
    "plt.subplot(1, 2, 2)\n",
    "plt.plot(accuracy_list, label='Train Accuracy')\n",
    "plt.xlabel('Epoch')\n",
    "plt.ylabel('Accuracy (%)')\n",
    "plt.title('Training Accuracy')\n",
    "plt.legend()\n",
    "\n",
    "plt.tight_layout()\n",
    "plt.show()"
   ]
  },
  {
   "cell_type": "code",
   "execution_count": 65,
   "metadata": {},
   "outputs": [
    {
     "data": {
      "image/png": "[encoded data removed]",
      "text/plain": [
       "<Figure size 640x480 with 2 Axes>"
      ]
     },
     "metadata": {},
     "output_type": "display_data"
    }
   ],
   "source": [
    "from sklearn.metrics import confusion_matrix, ConfusionMatrixDisplay\n",
    "import torch\n",
    "import numpy as np\n",
    "class_names = full_train_dataset.classes\n",
    "# Get device\n",
    "device = torch.device(\"mps\" if torch.backends.mps.is_available()\n",
    "                      else \"cuda\" if torch.cuda.is_available()\n",
    "                      else \"cpu\")\n",
    "\n",
    "# Make predictions\n",
    "model = pretrained_resnet_model.to(device)\n",
    "model.eval()\n",
    "\n",
    "all_preds = []\n",
    "all_labels = []\n",
    "\n",
    "with torch.no_grad():\n",
    "    for images, labels in resnet_loaders['test']:\n",
    "        images = images.to(device)\n",
    "        outputs = model(images)\n",
    "        _, preds = torch.max(outputs, 1)\n",
    "        all_preds.extend(preds.cpu().numpy())\n",
    "        all_labels.extend(labels.numpy())\n",
    "\n",
    "# Confusion matrix\n",
    "cm = confusion_matrix(all_labels, all_preds)\n",
    "disp = ConfusionMatrixDisplay(confusion_matrix=cm, display_labels=class_names)\n",
    "disp.plot(xticks_rotation=45, cmap='Blues')\n",
    "plt.title(\"Confusion Matrix (Test Set)\")\n",
    "plt.show()\n"
   ]
  },
  {
   "cell_type": "markdown",
   "metadata": {
    "id": "s9rnUtAVrzTn"
   },
   "source": [
    "### 9. Comment on the results. Are the results to your satisfaction? Which phase contributed to the improved performance? What was the most challenging aspect of the exercise? Ideas for improving the model?"
   ]
  },
  {
   "cell_type": "code",
   "execution_count": 66,
   "metadata": {},
   "outputs": [
    {
     "data": {
      "text/plain": [
       "ResNet(\n",
       "  (conv1): Conv2d(3, 64, kernel_size=(7, 7), stride=(2, 2), padding=(3, 3), bias=False)\n",
       "  (bn1): BatchNorm2d(64, eps=1e-05, momentum=0.1, affine=True, track_running_stats=True)\n",
       "  (relu): ReLU(inplace=True)\n",
       "  (maxpool): MaxPool2d(kernel_size=3, stride=2, padding=1, dilation=1, ceil_mode=False)\n",
       "  (layer1): Sequential(\n",
       "    (0): BasicBlock(\n",
       "      (conv1): Conv2d(64, 64, kernel_size=(3, 3), stride=(1, 1), padding=(1, 1), bias=False)\n",
       "      (bn1): BatchNorm2d(64, eps=1e-05, momentum=0.1, affine=True, track_running_stats=True)\n",
       "      (relu): ReLU(inplace=True)\n",
       "      (conv2): Conv2d(64, 64, kernel_size=(3, 3), stride=(1, 1), padding=(1, 1), bias=False)\n",
       "      (bn2): BatchNorm2d(64, eps=1e-05, momentum=0.1, affine=True, track_running_stats=True)\n",
       "    )\n",
       "    (1): BasicBlock(\n",
       "      (conv1): Conv2d(64, 64, kernel_size=(3, 3), stride=(1, 1), padding=(1, 1), bias=False)\n",
       "      (bn1): BatchNorm2d(64, eps=1e-05, momentum=0.1, affine=True, track_running_stats=True)\n",
       "      (relu): ReLU(inplace=True)\n",
       "      (conv2): Conv2d(64, 64, kernel_size=(3, 3), stride=(1, 1), padding=(1, 1), bias=False)\n",
       "      (bn2): BatchNorm2d(64, eps=1e-05, momentum=0.1, affine=True, track_running_stats=True)\n",
       "    )\n",
       "  )\n",
       "  (layer2): Sequential(\n",
       "    (0): BasicBlock(\n",
       "      (conv1): Conv2d(64, 128, kernel_size=(3, 3), stride=(2, 2), padding=(1, 1), bias=False)\n",
       "      (bn1): BatchNorm2d(128, eps=1e-05, momentum=0.1, affine=True, track_running_stats=True)\n",
       "      (relu): ReLU(inplace=True)\n",
       "      (conv2): Conv2d(128, 128, kernel_size=(3, 3), stride=(1, 1), padding=(1, 1), bias=False)\n",
       "      (bn2): BatchNorm2d(128, eps=1e-05, momentum=0.1, affine=True, track_running_stats=True)\n",
       "      (downsample): Sequential(\n",
       "        (0): Conv2d(64, 128, kernel_size=(1, 1), stride=(2, 2), bias=False)\n",
       "        (1): BatchNorm2d(128, eps=1e-05, momentum=0.1, affine=True, track_running_stats=True)\n",
       "      )\n",
       "    )\n",
       "    (1): BasicBlock(\n",
       "      (conv1): Conv2d(128, 128, kernel_size=(3, 3), stride=(1, 1), padding=(1, 1), bias=False)\n",
       "      (bn1): BatchNorm2d(128, eps=1e-05, momentum=0.1, affine=True, track_running_stats=True)\n",
       "      (relu): ReLU(inplace=True)\n",
       "      (conv2): Conv2d(128, 128, kernel_size=(3, 3), stride=(1, 1), padding=(1, 1), bias=False)\n",
       "      (bn2): BatchNorm2d(128, eps=1e-05, momentum=0.1, affine=True, track_running_stats=True)\n",
       "    )\n",
       "  )\n",
       "  (layer3): Sequential(\n",
       "    (0): BasicBlock(\n",
       "      (conv1): Conv2d(128, 256, kernel_size=(3, 3), stride=(2, 2), padding=(1, 1), bias=False)\n",
       "      (bn1): BatchNorm2d(256, eps=1e-05, momentum=0.1, affine=True, track_running_stats=True)\n",
       "      (relu): ReLU(inplace=True)\n",
       "      (conv2): Conv2d(256, 256, kernel_size=(3, 3), stride=(1, 1), padding=(1, 1), bias=False)\n",
       "      (bn2): BatchNorm2d(256, eps=1e-05, momentum=0.1, affine=True, track_running_stats=True)\n",
       "      (downsample): Sequential(\n",
       "        (0): Conv2d(128, 256, kernel_size=(1, 1), stride=(2, 2), bias=False)\n",
       "        (1): BatchNorm2d(256, eps=1e-05, momentum=0.1, affine=True, track_running_stats=True)\n",
       "      )\n",
       "    )\n",
       "    (1): BasicBlock(\n",
       "      (conv1): Conv2d(256, 256, kernel_size=(3, 3), stride=(1, 1), padding=(1, 1), bias=False)\n",
       "      (bn1): BatchNorm2d(256, eps=1e-05, momentum=0.1, affine=True, track_running_stats=True)\n",
       "      (relu): ReLU(inplace=True)\n",
       "      (conv2): Conv2d(256, 256, kernel_size=(3, 3), stride=(1, 1), padding=(1, 1), bias=False)\n",
       "      (bn2): BatchNorm2d(256, eps=1e-05, momentum=0.1, affine=True, track_running_stats=True)\n",
       "    )\n",
       "  )\n",
       "  (layer4): Sequential(\n",
       "    (0): BasicBlock(\n",
       "      (conv1): Conv2d(256, 512, kernel_size=(3, 3), stride=(2, 2), padding=(1, 1), bias=False)\n",
       "      (bn1): BatchNorm2d(512, eps=1e-05, momentum=0.1, affine=True, track_running_stats=True)\n",
       "      (relu): ReLU(inplace=True)\n",
       "      (conv2): Conv2d(512, 512, kernel_size=(3, 3), stride=(1, 1), padding=(1, 1), bias=False)\n",
       "      (bn2): BatchNorm2d(512, eps=1e-05, momentum=0.1, affine=True, track_running_stats=True)\n",
       "      (downsample): Sequential(\n",
       "        (0): Conv2d(256, 512, kernel_size=(1, 1), stride=(2, 2), bias=False)\n",
       "        (1): BatchNorm2d(512, eps=1e-05, momentum=0.1, affine=True, track_running_stats=True)\n",
       "      )\n",
       "    )\n",
       "    (1): BasicBlock(\n",
       "      (conv1): Conv2d(512, 512, kernel_size=(3, 3), stride=(1, 1), padding=(1, 1), bias=False)\n",
       "      (bn1): BatchNorm2d(512, eps=1e-05, momentum=0.1, affine=True, track_running_stats=True)\n",
       "      (relu): ReLU(inplace=True)\n",
       "      (conv2): Conv2d(512, 512, kernel_size=(3, 3), stride=(1, 1), padding=(1, 1), bias=False)\n",
       "      (bn2): BatchNorm2d(512, eps=1e-05, momentum=0.1, affine=True, track_running_stats=True)\n",
       "    )\n",
       "  )\n",
       "  (avgpool): AdaptiveAvgPool2d(output_size=(1, 1))\n",
       "  (fc): Linear(in_features=512, out_features=6, bias=True)\n",
       ")"
      ]
     },
     "execution_count": 66,
     "metadata": {},
     "output_type": "execute_result"
    }
   ],
   "source": [
    "from torchvision.models import resnet18\n",
    "import torch\n",
    "\n",
    "# Recreate the model\n",
    "model = resnet18()\n",
    "model.fc = torch.nn.Linear(512, num_classes)  # Same shape as during training\n",
    "\n",
    "# Load the weights\n",
    "model.load_state_dict(torch.load(\"saved_model.pth\"))\n",
    "#model.eval()"
   ]
  },
  {
   "cell_type": "markdown",
   "metadata": {
    "id": "SZWr_zbnsE_K"
   },
   "source": [
    "Answer:"
   ]
  }
 ],
 "metadata": {
  "colab": {
   "provenance": []
  },
  "kernelspec": {
   "display_name": "Python 3 (ipykernel)",
   "language": "python",
   "name": "python3"
  },
  "language_info": {
   "codemirror_mode": {
    "name": "ipython",
    "version": 3
   },
   "file_extension": ".py",
   "mimetype": "text/x-python",
   "name": "python",
   "nbconvert_exporter": "python",
   "pygments_lexer": "ipython3",
   "version": "3.11.13"
  }
 },
 "nbformat": 4,
 "nbformat_minor": 4
}
