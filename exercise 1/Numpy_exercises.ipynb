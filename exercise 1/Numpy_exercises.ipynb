{
 "cells": [
  {
   "cell_type": "markdown",
   "metadata": {
    "id": "YQNQ4keK-xjv"
   },
   "source": [
    "#  1a. Numpy exercises"
   ]
  },
  {
   "cell_type": "markdown",
   "metadata": {
    "id": "M2o48Okh-_GD"
   },
   "source": [
    "1. Import the numpy package under the name `np`\n",
    "\n",
    "`hint: import … as`"
   ]
  },
  {
   "cell_type": "code",
   "execution_count": 1,
   "metadata": {
    "id": "XN7DFiM7_Pvp"
   },
   "outputs": [],
   "source": [
    "import numpy as np\n"
   ]
  },
  {
   "cell_type": "markdown",
   "metadata": {
    "id": "POLBAG5M_QPQ"
   },
   "source": [
    "2. Create a zero vector of size 10\n",
    "\n",
    "`hint: np.zeros`\n",
    "\n"
   ]
  },
  {
   "cell_type": "code",
   "execution_count": 2,
   "metadata": {
    "colab": {
     "base_uri": "https://localhost:8080/"
    },
    "executionInfo": {
     "elapsed": 287,
     "status": "ok",
     "timestamp": 1720428612123,
     "user": {
      "displayName": "Đorđe Grbić",
      "userId": "17224412897437983949"
     },
     "user_tz": -120
    },
    "id": "aZT2R1tkBicc",
    "outputId": "08826371-0755-472a-9321-0abfcec78ac1"
   },
   "outputs": [
    {
     "data": {
      "text/plain": [
       "array([[0., 0., 0., 0., 0., 0., 0., 0., 0., 0.],\n",
       "       [0., 0., 0., 0., 0., 0., 0., 0., 0., 0.],\n",
       "       [0., 0., 0., 0., 0., 0., 0., 0., 0., 0.],\n",
       "       [0., 0., 0., 0., 0., 0., 0., 0., 0., 0.],\n",
       "       [0., 0., 0., 0., 0., 0., 0., 0., 0., 0.],\n",
       "       [0., 0., 0., 0., 0., 0., 0., 0., 0., 0.],\n",
       "       [0., 0., 0., 0., 0., 0., 0., 0., 0., 0.],\n",
       "       [0., 0., 0., 0., 0., 0., 0., 0., 0., 0.],\n",
       "       [0., 0., 0., 0., 0., 0., 0., 0., 0., 0.],\n",
       "       [0., 0., 0., 0., 0., 0., 0., 0., 0., 0.]])"
      ]
     },
     "execution_count": 2,
     "metadata": {},
     "output_type": "execute_result"
    }
   ],
   "source": [
    "np.zeros((10,10))"
   ]
  },
  {
   "cell_type": "markdown",
   "metadata": {
    "id": "6jmMwHwpAA2H"
   },
   "source": [
    "3. Create a vector with values ranging from 0 to 100\n",
    "\n",
    "`hint: arange`"
   ]
  },
  {
   "cell_type": "code",
   "execution_count": 3,
   "metadata": {
    "colab": {
     "base_uri": "https://localhost:8080/"
    },
    "executionInfo": {
     "elapsed": 287,
     "status": "ok",
     "timestamp": 1720428743839,
     "user": {
      "displayName": "Đorđe Grbić",
      "userId": "17224412897437983949"
     },
     "user_tz": -120
    },
    "id": "ZA46tEGcik4G",
    "outputId": "123e3c7b-a470-47b7-af90-dc44ce5fee72"
   },
   "outputs": [
    {
     "data": {
      "text/plain": [
       "array([ 0,  1,  2,  3,  4,  5,  6,  7,  8,  9, 10, 11, 12, 13, 14, 15, 16,\n",
       "       17, 18, 19, 20, 21, 22, 23, 24, 25, 26, 27, 28, 29, 30, 31, 32, 33,\n",
       "       34, 35, 36, 37, 38, 39, 40, 41, 42, 43, 44, 45, 46, 47, 48, 49, 50,\n",
       "       51, 52, 53, 54, 55, 56, 57, 58, 59, 60, 61, 62, 63, 64, 65, 66, 67,\n",
       "       68, 69, 70, 71, 72, 73, 74, 75, 76, 77, 78, 79, 80, 81, 82, 83, 84,\n",
       "       85, 86, 87, 88, 89, 90, 91, 92, 93, 94, 95, 96, 97, 98, 99])"
      ]
     },
     "execution_count": 3,
     "metadata": {},
     "output_type": "execute_result"
    }
   ],
   "source": [
    "np.arange(0, 100, 1)"
   ]
  },
  {
   "cell_type": "markdown",
   "metadata": {
    "id": "RbwjVj99AWXZ"
   },
   "source": [
    "4. Create a 10x10 matrix with random values and find the minimum, maximum, and mean values. Normalize the said matrix\n",
    "\n",
    "`hint: min, max, ...`"
   ]
  },
  {
   "cell_type": "code",
   "execution_count": 34,
   "metadata": {
    "id": "_0VEPKs4AxLS"
   },
   "outputs": [
    {
     "name": "stdout",
     "output_type": "stream",
     "text": [
      "Min Value: 0.0073486263446203015\n",
      "Max Value: 0.9972301569721512\n",
      "Mean Value: 0.4993069181464229\n",
      "Normalized Matrix: [[0.65926473 0.16762072 0.61030624 0.3613985  0.65141036 0.60150931\n",
      "  0.41497847 0.35477563 0.49936657 0.97948048]\n",
      " [0.59730715 0.66107712 0.55199453 0.92555796 0.20363273 0.00105751\n",
      "  0.08238863 0.8663937  0.3446192  0.89669958]\n",
      " [0.31085193 0.80703616 0.93483548 0.82623937 0.52826657 0.\n",
      "  0.66484261 1.         0.48181749 0.5539597 ]\n",
      " [0.64950268 0.45543711 0.21936442 0.90033637 0.80080425 0.67054438\n",
      "  0.05895431 0.27932522 0.6982106  0.79375622]\n",
      " [0.37729176 0.08904699 0.05313098 0.64204253 0.26796469 0.13566891\n",
      "  0.70331704 0.41345616 0.21959478 0.11835661]\n",
      " [0.3522656  0.33718311 0.95891407 0.94194405 0.11623192 0.11844128\n",
      "  0.18561504 0.29154768 0.70821693 0.63242699]\n",
      " [0.48083536 0.89476509 0.44887964 0.38073577 0.40002925 0.82857221\n",
      "  0.51618114 0.35862059 0.47207106 0.77457528]\n",
      " [0.20517362 0.38952793 0.70703706 0.50360902 0.17532833 0.39400941\n",
      "  0.41077483 0.03506383 0.13727783 0.75735473]\n",
      " [0.71160235 0.20682852 0.96935987 0.77903388 0.39735498 0.95151662\n",
      "  0.58797536 0.38337869 0.41200668 0.75768373]\n",
      " [0.5358258  0.3236057  0.21683189 0.03824872 0.39984537 0.87777655\n",
      "  0.83035783 0.3570033  0.94004657 0.02441849]]\n"
     ]
    }
   ],
   "source": [
    "random_matrix = np.random.rand(10, 10)\n",
    "min_matrix = np.min(random_matrix)\n",
    "max_matrix = np.max(random_matrix)\n",
    "mean_matrix = np.mean(random_matrix)\n",
    "\n",
    "norm_matrix = (random_matrix - min_matrix) / (max_matrix - min_matrix)\n",
    "\n",
    "print(\"Min Value:\", min_matrix)\n",
    "print(\"Max Value:\", max_matrix)\n",
    "print(\"Mean Value:\", mean_matrix)\n",
    "print(\"Normalized Matrix:\", norm_matrix)"
   ]
  },
  {
   "cell_type": "markdown",
   "metadata": {
    "id": "RNcNkqTHAxhA"
   },
   "source": [
    "5. Consider a random 10x2 matrix representing cartesian coordinates, convert them to polar coordinates\n",
    "\n",
    "`hint: np.sqrt, np.arctan2`"
   ]
  },
  {
   "cell_type": "code",
   "execution_count": 39,
   "metadata": {
    "id": "TimwEyjqBxtP"
   },
   "outputs": [
    {
     "name": "stdout",
     "output_type": "stream",
     "text": [
      "Point 1: x=0.781, y=0.444 -> r=0.899, θ=0.517 rad\n",
      "Point 2: x=0.426, y=0.219 -> r=0.479, θ=0.476 rad\n",
      "Point 3: x=0.624, y=0.898 -> r=1.094, θ=0.963 rad\n",
      "Point 4: x=0.551, y=0.383 -> r=0.671, θ=0.608 rad\n",
      "Point 5: x=0.065, y=0.354 -> r=0.360, θ=1.390 rad\n",
      "Point 6: x=0.908, y=0.886 -> r=1.269, θ=0.773 rad\n",
      "Point 7: x=0.872, y=0.331 -> r=0.933, θ=0.363 rad\n",
      "Point 8: x=0.334, y=0.996 -> r=1.050, θ=1.247 rad\n",
      "Point 9: x=0.472, y=0.724 -> r=0.864, θ=0.994 rad\n",
      "Point 10: x=0.393, y=0.353 -> r=0.529, θ=0.732 rad\n"
     ]
    }
   ],
   "source": [
    "# (rows, columns)\n",
    "cartesian_matrix = np.random.rand(10, 2)\n",
    "\n",
    "#source: https://www.w3resource.com/python-exercises/numpy/python-numpy-random-exercise-14.php\n",
    "# extract x y from the cartesian matrix\n",
    "x, y = cartesian_matrix[:, 0], cartesian_matrix[:, 1]\n",
    "\n",
    "# Calculating the Euclidean distance (r) using the formula sqrt(x^2 + y^2)\n",
    "r = np.sqrt(x**2 + y**2)\n",
    "\n",
    "# Calculating the angles (t) using arctan2() function, which returns the arctangent of y/x in radians\n",
    "t = np.arctan2(y, x)\n",
    "\n",
    "for i in range(10):\n",
    "    print(f\"Point {i+1}: x={x[i]:.3f}, y={y[i]:.3f} -> r={r[i]:.3f}, θ={t[i]:.3f} rad\")\n"
   ]
  },
  {
   "cell_type": "markdown",
   "metadata": {
    "id": "StYSV1XMBx3D"
   },
   "source": [
    "6. Create random vector of size 10 and replace the maximum value by 0\n",
    "\n",
    "`hint: argmax`"
   ]
  },
  {
   "cell_type": "code",
   "execution_count": 48,
   "metadata": {
    "id": "OJLNkf9nEYBj"
   },
   "outputs": [
    {
     "name": "stdout",
     "output_type": "stream",
     "text": [
      "vector:  [0.96482559 0.08551342 0.12209773 0.86215937 0.7292159  0.24528041\n",
      " 0.04188299 0.35988241 0.97022365 0.85544136]\n",
      "vector max value:  0.9702236523594185\n",
      "replacing with 0...\n",
      "completed:  [0.96482559 0.08551342 0.12209773 0.86215937 0.7292159  0.24528041\n",
      " 0.04188299 0.35988241 0.         0.85544136]\n"
     ]
    }
   ],
   "source": [
    "vector = np.random.rand(10)\n",
    "print('vector: ', vector)\n",
    "max_index = np.argmax(vector)\n",
    "print('vector max value: ', vector[max_index])\n",
    "print('replacing with 0...')\n",
    "vector[max_index] = 0\n",
    "print('completed: ', vector)"
   ]
  },
  {
   "cell_type": "markdown",
   "metadata": {
    "id": "pkMmd0g9EMTX"
   },
   "source": [
    "7. Create a structured array with x and y coordinates covering the [0,1]x[0,1] area.\n",
    "\n",
    "`hint: np.meshgrid`"
   ]
  },
  {
   "cell_type": "code",
   "execution_count": 62,
   "metadata": {
    "colab": {
     "base_uri": "https://localhost:8080/"
    },
    "executionInfo": {
     "elapsed": 291,
     "status": "ok",
     "timestamp": 1626098348908,
     "user": {
      "displayName": "Đorđe Grbić",
      "photoUrl": "https://lh3.googleusercontent.com/a-/AOh14GjMtdPDPC6XJoAlVJ9SyzF_WldAaS1YlXbiUOAReA=s64",
      "userId": "17224412897437983949"
     },
     "user_tz": -120
    },
    "id": "bl8BChgEEYvE",
    "outputId": "bab731d6-be47-4735-a658-28b8eeebfc4d"
   },
   "outputs": [
    {
     "name": "stdout",
     "output_type": "stream",
     "text": [
      "[0.  0.1 0.2 0.3 0.4 0.5 0.6 0.7 0.8 0.9 1. ]\n"
     ]
    }
   ],
   "source": [
    "x = np.arange(0, 1.1, 0.1)\n",
    "print(x)\n",
    "\n",
    "X, Y = np.meshgrid(x, x)\n",
    "\n",
    "# from here i used chatgpt\n",
    "points = np.zeros(X.shape, dtype=[('x', float), ('y', float)])\n",
    "points['x'] = X\n",
    "points['y'] = Y"
   ]
  },
  {
   "cell_type": "markdown",
   "metadata": {
    "id": "Ly6Yg3ABEY2-"
   },
   "source": [
    "8. Having a scalar `x` and a random vector `v`, find a value in `v` that is closest to `x`\n",
    "\n",
    "`hint: argmin`"
   ]
  },
  {
   "cell_type": "code",
   "execution_count": 73,
   "metadata": {
    "id": "WC3FkkfkFCGU"
   },
   "outputs": [
    {
     "name": "stdout",
     "output_type": "stream",
     "text": [
      "v =  [0.83070452 0.09989808 0.90678095 0.63113013 0.75866482]\n",
      "x =  2\n",
      "Closest to x:  0.9067809472756394\n"
     ]
    }
   ],
   "source": [
    "size = 5\n",
    "v = np.random.rand(size)\n",
    "print('v = ', v)\n",
    "x = 2\n",
    "print('x = ', x)\n",
    "# create a vector from v, where we subtract x from it and takes the absolute value\n",
    "# that way, the value closest to 0 will be the one np.argmin finds\n",
    "v_difference = np.abs(v - x)\n",
    "min_value = v[np.argmin(v_difference)]\n",
    "print('Closest to x: ', min_value)"
   ]
  },
  {
   "cell_type": "markdown",
   "metadata": {
    "id": "bz-Y3S-PFKgB"
   },
   "source": [
    "9. Consider a random vector with shape (100,2) representing coordinates, find point by point distances and put them in a (100,100) array."
   ]
  },
  {
   "cell_type": "code",
   "execution_count": 146,
   "metadata": {
    "id": "NG7-1x9WPu6K"
   },
   "outputs": [
    {
     "name": "stdout",
     "output_type": "stream",
     "text": [
      "Distance matrix shape: [[0.         0.4458277  0.80271269 ... 0.89169192 0.85635222 0.44509469]\n",
      " [0.4458277  0.         1.12799359 ... 0.86222286 0.86548223 0.88876361]\n",
      " [0.80271269 1.12799359 0.         ... 0.78911607 0.71225123 0.58196462]\n",
      " ...\n",
      " [0.89169192 0.86222286 0.78911607 ... 0.         0.07705443 1.06595839]\n",
      " [0.85635222 0.86548223 0.71225123 ... 0.07705443 0.         1.00483363]\n",
      " [0.44509469 0.88876361 0.58196462 ... 1.06595839 1.00483363 0.        ]]\n"
     ]
    }
   ],
   "source": [
    "V = np.random.rand(100, 2)\n",
    "A = V.reshape(100, 1, 2)\n",
    "B = V.reshape(1, 100, 2)\n",
    "\n",
    "diff = A - B\n",
    "euclidean_dist = np.linalg.norm(diff, axis=2)\n",
    "print(\"Distance matrix shape:\", euclidean_dist)"
   ]
  },
  {
   "cell_type": "markdown",
   "metadata": {
    "id": "mASMahBpGOZW"
   },
   "source": [
    "10. Create a random (100, 100) matrix with values from 0 to 1. Turn all values lower than 0.5 into 0.0"
   ]
  },
  {
   "cell_type": "code",
   "execution_count": 92,
   "metadata": {
    "id": "nfJsjzgeGlOs"
   },
   "outputs": [],
   "source": [
    "matrix = np.random.rand(100, 100)\n",
    "matrix[matrix < 0.5] = 0.0"
   ]
  },
  {
   "cell_type": "markdown",
   "metadata": {
    "id": "7FwporQmKMfV"
   },
   "source": [
    "11. Do a dot product of two matrices and print only the diagonal values."
   ]
  },
  {
   "cell_type": "code",
   "execution_count": 154,
   "metadata": {
    "id": "DqLnFglFKijP"
   },
   "outputs": [
    {
     "name": "stdout",
     "output_type": "stream",
     "text": [
      "[0.49746508 0.53168172 0.29962227]\n"
     ]
    }
   ],
   "source": [
    "A = np.random.rand(3, 3)\n",
    "B = np.random.rand(3, 3)\n",
    "C = np.dot(A, B)\n",
    "print(np.diag(C))"
   ]
  },
  {
   "cell_type": "markdown",
   "metadata": {
    "id": "FwBos0hcKj5j"
   },
   "source": [
    "12. Swap two rows of a matrix."
   ]
  },
  {
   "cell_type": "code",
   "execution_count": 163,
   "metadata": {
    "id": "sXSrNvAhKr_1"
   },
   "outputs": [
    {
     "name": "stdout",
     "output_type": "stream",
     "text": [
      "[[0.51933658 0.81402173]\n",
      " [0.87314595 0.44014224]]\n",
      "\n",
      "<-SWAP->\n",
      "\n",
      "[[0.87314595 0.44014224]\n",
      " [0.51933658 0.81402173]]\n"
     ]
    }
   ],
   "source": [
    "A = np.random.rand(2, 2)\n",
    "print(A)\n",
    "#[r,c]\n",
    "\n",
    "A[[0, 1]] = A[[1, 0]]\n",
    "print('\\n<-SWAP->\\n')\n",
    "print(A)\n"
   ]
  },
  {
   "cell_type": "markdown",
   "metadata": {
    "id": "BAvhQbHeQr5j"
   },
   "source": [
    "13. Solve the system of equations:\n",
    "\n",
    "  $3x - 11y = 3$\n",
    "\n",
    "  $x - 4y = 6$\n",
    "\n",
    "  using `numpy.linalg.solve`"
   ]
  },
  {
   "cell_type": "code",
   "execution_count": 117,
   "metadata": {
    "id": "3NDMuVzAQvzI"
   },
   "outputs": [
    {
     "data": {
      "text/plain": [
       "array([-54., -15.])"
      ]
     },
     "execution_count": 117,
     "metadata": {},
     "output_type": "execute_result"
    }
   ],
   "source": [
    "A = np.array([[3, -11],\n",
    "              [1, -4]]) # coefficents of first and second eq.\n",
    "\n",
    "b = np.array([3, 6]) # y\n",
    "\n",
    "np.linalg.solve(A, b)"
   ]
  },
  {
   "cell_type": "code",
   "execution_count": null,
   "metadata": {},
   "outputs": [],
   "source": []
  }
 ],
 "metadata": {
  "colab": {
   "provenance": []
  },
  "kernelspec": {
   "display_name": "Python 3 (ipykernel)",
   "language": "python",
   "name": "python3"
  },
  "language_info": {
   "codemirror_mode": {
    "name": "ipython",
    "version": 3
   },
   "file_extension": ".py",
   "mimetype": "text/x-python",
   "name": "python",
   "nbconvert_exporter": "python",
   "pygments_lexer": "ipython3",
   "version": "3.11.13"
  }
 },
 "nbformat": 4,
 "nbformat_minor": 4
}
